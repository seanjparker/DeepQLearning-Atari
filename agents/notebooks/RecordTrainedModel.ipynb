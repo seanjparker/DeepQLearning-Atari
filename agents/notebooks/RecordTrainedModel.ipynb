{
 "cells": [
  {
   "cell_type": "code",
   "execution_count": 38,
   "metadata": {},
   "outputs": [],
   "source": [
    "import gym\n",
    "from gym.wrappers import Monitor\n",
    "import tensorflow as tf\n",
    "import numpy as np\n",
    "import matplotlib.pyplot as plt\n",
    "import cv2\n",
    "from collections import deque\n",
    "cv2.ocl.setUseOpenCL(False)"
   ]
  },
  {
   "cell_type": "code",
   "execution_count": 39,
   "metadata": {},
   "outputs": [],
   "source": [
    "def pre_process(frame):\n",
    "    gray = np.mean(frame, axis=2)\n",
    "    return cv2.resize(gray, (84, 84), interpolation=cv2.INTER_AREA)"
   ]
  },
  {
   "cell_type": "code",
   "execution_count": 42,
   "metadata": {},
   "outputs": [],
   "source": [
    "class FireResetEnv(gym.Wrapper):\n",
    "    def __init__(self, env):\n",
    "        \"\"\"Take action on reset for environments that are fixed until firing.\"\"\"\n",
    "        gym.Wrapper.__init__(self, env)\n",
    "        assert env.unwrapped.get_action_meanings()[1] == 'FIRE'\n",
    "        assert len(env.unwrapped.get_action_meanings()) >= 3\n",
    "\n",
    "    def reset(self, **kwargs):\n",
    "        self.env.reset(**kwargs)\n",
    "        obs, _, done, _ = self.env.step(1)\n",
    "        if done:\n",
    "            self.env.reset(**kwargs)\n",
    "        obs, _, done, _ = self.env.step(2)\n",
    "        if done:\n",
    "            self.env.reset(**kwargs)\n",
    "        return obs\n",
    "\n",
    "    def step(self, ac):\n",
    "        return self.env.step(ac)"
   ]
  },
  {
   "cell_type": "code",
   "execution_count": null,
   "metadata": {},
   "outputs": [],
   "source": [
    "model = tf.keras.models.load_model('../../saved_model/dqn_breakout')\n",
    "env = gym.make('BreakoutDeterministic-v4')\n",
    "env = FireResetEnv(env)\n",
    "env = gym.wrappers.Monitor(env, \"./vid_breakout\", video_callable=lambda episode_id: True, force=True)\n",
    "obs = env.reset()\n",
    "obs, _, _, _ = env.step(0)"
   ]
  },
  {
   "cell_type": "code",
   "execution_count": 37,
   "metadata": {},
   "outputs": [],
   "source": [
    "frame_stack = deque([], maxlen=4)\n",
    "processed = pre_process(obs)\n",
    "next_state = np.reshape([processed], (1, 84, 84, 1))\n",
    "frame_stack.append(next_state)\n",
    "frame_stack.append(next_state)\n",
    "frame_stack.append(next_state)\n",
    "frame_stack.append(next_state)"
   ]
  },
  {
   "cell_type": "code",
   "execution_count": null,
   "metadata": {},
   "outputs": [],
   "source": [
    "done = False\n",
    "reward_sum = 0\n",
    "lives = env.unwrapped.ale.lives()\n",
    "while not done:\n",
    "    out = np.concatenate(frame_stack, axis=-1)\n",
    "    q_values = model.predict(out)\n",
    "    action = tf.argmax(q_values[0])\n",
    "    obs, reward, done, info = env.step(action.numpy())\n",
    "    if env.unwrapped.ale.lives() < lives and not done:\n",
    "        lives = env.unwrapped.ale.lives()\n",
    "        obs, _, _, _ = env.step(1)\n",
    "    env.render()\n",
    "    processed = pre_process(obs)\n",
    "    next_state = np.reshape([processed], (1, 84, 84, 1))\n",
    "    frame_stack.append(next_state)\n",
    "\n",
    "env.close()"
   ]
  },
  {
   "cell_type": "code",
   "execution_count": null,
   "metadata": {},
   "outputs": [],
   "source": []
  }
 ],
 "metadata": {
  "kernelspec": {
   "display_name": "Python 3",
   "language": "python",
   "name": "python3"
  },
  "language_info": {
   "codemirror_mode": {
    "name": "ipython",
    "version": 3
   },
   "file_extension": ".py",
   "mimetype": "text/x-python",
   "name": "python",
   "nbconvert_exporter": "python",
   "pygments_lexer": "ipython3",
   "version": "3.7.4"
  }
 },
 "nbformat": 4,
 "nbformat_minor": 4
}
